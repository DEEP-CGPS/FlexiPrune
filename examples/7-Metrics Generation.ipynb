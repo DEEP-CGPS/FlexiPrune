{
 "cells": [
  {
   "cell_type": "code",
   "execution_count": null,
   "id": "52dbe177",
   "metadata": {},
   "outputs": [],
   "source": [
    "import os\n",
    "os.chdir('..')"
   ]
  },
  {
   "cell_type": "markdown",
   "id": "7fbebfcf",
   "metadata": {},
   "source": [
    "## 1- Definition of arguments for function usage"
   ]
  },
  {
   "cell_type": "code",
   "execution_count": null,
   "id": "5c70cba2",
   "metadata": {},
   "outputs": [],
   "source": [
    "import sys\n",
    "import torch\n",
    "import os\n",
    "from flexiprune import *\n",
    "import argparse\n",
    "sys.argv = ['']\n",
    "\n",
    "parser = argparse.ArgumentParser(description='Parameters for training')\n",
    "\n",
    "parser.add_argument('--model_architecture', type=str, default=\"VGG16\", \n",
    "                    help='Specify the architecture of the model (e.g., VGG16, AlexNet, etc.).')\n",
    "\n",
    "parser.add_argument('--dataset', type=str, default=\"CIFAR10\", \n",
    "                    help='Specify the dataset for training (e.g., CIFAR10, \"Name of custom dataset\").')\n",
    "\n",
    "parser.add_argument('--device', type=str, default=None, \n",
    "                    help='Specify the device for training (e.g., \"cuda:0\" for GPU).')\n",
    "\n",
    "parser.add_argument('--eval_metric', default=\"accuracy\", \n",
    "                    help='Specify the evaluation metric (e.g., accuracy, f1).')\n",
    "\n",
    "args = parser.parse_args()\n",
    "\n",
    "if args.device is None:\n",
    "    import torch\n",
    "    args.device = torch.device(\"cuda\" if torch.cuda.is_available() else \"cpu\")"
   ]
  },
  {
   "cell_type": "markdown",
   "id": "6b31a0db",
   "metadata": {},
   "source": [
    "## 2- Metrics Generation"
   ]
  },
  {
   "cell_type": "code",
   "execution_count": null,
   "id": "69a17743",
   "metadata": {},
   "outputs": [],
   "source": [
    "df = evaluate_models(args,metric = False)\n",
    "df"
   ]
  },
  {
   "cell_type": "markdown",
   "id": "8cb11460",
   "metadata": {},
   "source": [
    "## 3- save metrics"
   ]
  },
  {
   "cell_type": "code",
   "execution_count": null,
   "id": "b61215d4",
   "metadata": {},
   "outputs": [],
   "source": [
    "if not os.path.exists(f\"results/{args.dataset}\"):\n",
    "    os.makedirs(f\"results/{args.dataset}\")\n",
    "df.to_csv(f'results/{args.dataset}/results_{args.dataset}.csv')"
   ]
  }
 ],
 "metadata": {
  "kernelspec": {
   "display_name": "Python 3 (ipykernel)",
   "language": "python",
   "name": "python3"
  },
  "language_info": {
   "codemirror_mode": {
    "name": "ipython",
    "version": 3
   },
   "file_extension": ".py",
   "mimetype": "text/x-python",
   "name": "python",
   "nbconvert_exporter": "python",
   "pygments_lexer": "ipython3",
   "version": "3.9.18"
  }
 },
 "nbformat": 4,
 "nbformat_minor": 5
}
