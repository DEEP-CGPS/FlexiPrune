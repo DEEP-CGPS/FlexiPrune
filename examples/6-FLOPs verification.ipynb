{
 "cells": [
  {
   "cell_type": "markdown",
   "id": "57cdff77",
   "metadata": {},
   "source": [
    "### 1. Definition of arguments for function usage\n"
   ]
  },
  {
   "cell_type": "code",
   "execution_count": null,
   "id": "615c8a90",
   "metadata": {},
   "outputs": [],
   "source": [
    "import os\n",
    "os.chdir('..')"
   ]
  },
  {
   "cell_type": "code",
   "execution_count": null,
   "id": "c5a0cdc0",
   "metadata": {},
   "outputs": [],
   "source": [
    "## 1- Definition of arguments for function usage\n",
    "\n",
    "import sys\n",
    "import torch\n",
    "import torch.optim as optim\n",
    "import torchvision\n",
    "from torchvision import transforms\n",
    "from pruningdistribution import *\n",
    "import argparse\n",
    "sys.argv = ['']\n",
    "\n",
    "import argparse\n",
    "import torch\n",
    "\n",
    "parser = argparse.ArgumentParser(description='Parameters for training')\n",
    "\n",
    "parser.add_argument('--model_architecture', type=str, default=\"VGG16\", \n",
    "                    help='Specify the architecture of the model (e.g., VGG16, AlexNet, etc.).')\n",
    "\n",
    "parser.add_argument('--method', type=str, default=\"random\", \n",
    "                    help='Specify the training method (e.g., SenpisFaster, random, weight).')\n",
    "\n",
    "parser.add_argument('--dataset', type=str, default=\"CIFAR10\", \n",
    "                    help='Specify the dataset for training (e.g., CIFAR10, \"Name of custom dataset\").')\n",
    "\n",
    "parser.add_argument('--batch_size', type=int, default=8, \n",
    "                    help='Set the batch size for training.')\n",
    "\n",
    "parser.add_argument('--num_epochs', type=int, default=1, \n",
    "                    help='Specify the number of training epochs.')\n",
    "\n",
    "parser.add_argument('--learning_rate', type=float, default=1e-3, \n",
    "                    help='Set the learning rate for the optimizer.')\n",
    "\n",
    "parser.add_argument('--optimizer_val', type=str, default=\"SGD\", \n",
    "                    help='Specify the optimizer for training (e.g., SGD, Adam, etc.).')\n",
    "\n",
    "parser.add_argument('--model_type', type=str, default=\"UNPRUNED\", \n",
    "                    help='Specify the type of the model (e.g., PRUNED or UNPRUNED).')\n",
    "\n",
    "parser.add_argument('--device', type=str, default=None, \n",
    "                    help='Specify the device for training (e.g., \"cuda:0\" for GPU).')\n",
    "\n",
    "parser.add_argument('--model_input', default=torch.ones((1, 3, 224, 224)), \n",
    "                    help='Input tensor for the model (default is a tensor of ones).')\n",
    "\n",
    "parser.add_argument('--eval_metric', default=\"accuracy\", \n",
    "                    help='Specify the evaluation metric (e.g., accuracy, f1).')\n",
    "\n",
    "parser.add_argument('--seed', type=int, default=23, \n",
    "                    help='Set the seed for random pruning operations.')\n",
    "\n",
    "parser.add_argument('--list_pruning', type=list, \n",
    "                    default=[0.5, 0.5, 0.5, 0.5, 0.5, 0.5, 0.5, 0.5, 0.5, 0.5, 0.5, 0.5, 0.5, 0.5, 0.5, 0], \n",
    "                    help='Specify the list of pruning ratios for each layer.')\n",
    "\n",
    "args = parser.parse_args()\n",
    "\n",
    "\n",
    "args = parser.parse_args()\n",
    "\n",
    "if args.device is None:\n",
    "    import torch\n",
    "    args.device = torch.device(\"cuda\" if torch.cuda.is_available() else \"cpu\")\n"
   ]
  },
  {
   "cell_type": "markdown",
   "id": "1b089ad9",
   "metadata": {},
   "source": [
    "### 2. Model creation"
   ]
  },
  {
   "cell_type": "code",
   "execution_count": null,
   "id": "c3304256",
   "metadata": {},
   "outputs": [],
   "source": [
    "model = get_model(10, args)"
   ]
  },
  {
   "cell_type": "markdown",
   "id": "aa349f92",
   "metadata": {},
   "source": [
    "#### 2.1. FLOPs verification, number of conv and linear layers"
   ]
  },
  {
   "cell_type": "code",
   "execution_count": null,
   "id": "7d98b1ec",
   "metadata": {},
   "outputs": [],
   "source": [
    "obj_params = ModelParams(model, args.model_input)\n",
    "flops, conv_layers, linear_layers = obj_params.get_all_params()\n",
    "print(f\"FLOPS: {flops}\\n Conv_layers: {conv_layers}\\n linear_layers: {linear_layers}\\n Total prune layers: {conv_layers+linear_layers}\")"
   ]
  }
 ],
 "metadata": {
  "kernelspec": {
   "display_name": "Python 3 (ipykernel)",
   "language": "python",
   "name": "python3"
  },
  "language_info": {
   "codemirror_mode": {
    "name": "ipython",
    "version": 3
   },
   "file_extension": ".py",
   "mimetype": "text/x-python",
   "name": "python",
   "nbconvert_exporter": "python",
   "pygments_lexer": "ipython3",
   "version": "3.9.18"
  }
 },
 "nbformat": 4,
 "nbformat_minor": 5
}
